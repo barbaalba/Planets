{
 "cells": [
  {
   "cell_type": "code",
   "execution_count": 54,
   "id": "217fcb43",
   "metadata": {
    "scrolled": true
   },
   "outputs": [
    {
     "name": "stdout",
     "output_type": "stream",
     "text": [
      "Python is case sensitive\n",
      "Indexing in python starts from 0\n",
      "use : to select range of indices\n",
      "Negative indexing is backward\n",
      "use Type to get  the type of the variable\n",
      "use Str to change the number to string\n",
      "multiplication concatinate the texts\n",
      "Int, float are types to use for numbers\n"
     ]
    }
   ],
   "source": [
    "print(\"Python is case sensitive\")\n",
    "print(\"Indexing in python starts from 0\")\n",
    "print(\"use : to select range of indices\")\n",
    "print(\"Negative indexing is backward\")\n",
    "print(\"use Type to get  the type of the variable\")\n",
    "print(\"use Str to change the number to string\")\n",
    "print(\"multiplication concatinate the texts\")\n",
    "print(\"Int, float are types to use for numbers\")"
   ]
  },
  {
   "cell_type": "code",
   "execution_count": 55,
   "id": "701f6e30",
   "metadata": {},
   "outputs": [],
   "source": [
    "firstname = \"mehdi\"\n",
    "lastname = \"haghshenas\"\n",
    "age = 29\n",
    "loc = \"Via Alberto Einstein, 6\""
   ]
  },
  {
   "cell_type": "code",
   "execution_count": 56,
   "id": "2da71dbe",
   "metadata": {},
   "outputs": [
    {
     "name": "stdout",
     "output_type": "stream",
     "text": [
      "mehdi is 29\n",
      "mehdi lives in Via Alberto Einstein, 6\n"
     ]
    }
   ],
   "source": [
    "print(firtname, \"is\", age)\n",
    "print(firstname,\"lives in\",loc)"
   ]
  },
  {
   "cell_type": "code",
   "execution_count": 57,
   "id": "e7032692",
   "metadata": {},
   "outputs": [
    {
     "name": "stdout",
     "output_type": "stream",
     "text": [
      "The last letter of mehdi is i\n",
      "mehdi\n",
      "mehdi\n"
     ]
    }
   ],
   "source": [
    "print(\"The last letter of\",firstname,\"is\",firstname[4])\n",
    "print(firstname[-5::]) #this is important to get the full anme using negative indexing \n",
    "print(firstname[0:8])"
   ]
  },
  {
   "cell_type": "code",
   "execution_count": 58,
   "id": "515c9546",
   "metadata": {},
   "outputs": [
    {
     "name": "stdout",
     "output_type": "stream",
     "text": [
      "5\n",
      "e\n"
     ]
    }
   ],
   "source": [
    "x = 5\n",
    "y = x\n",
    "print(y)\n",
    "x = 6\n",
    "print(firstname[1:2])"
   ]
  },
  {
   "cell_type": "code",
   "execution_count": 59,
   "id": "69f9fae2",
   "metadata": {},
   "outputs": [
    {
     "name": "stdout",
     "output_type": "stream",
     "text": [
      "mehdi haghshenas\n"
     ]
    }
   ],
   "source": [
    "print(firstname+\" \"+lastname)"
   ]
  },
  {
   "cell_type": "code",
   "execution_count": 60,
   "id": "dfa4f440",
   "metadata": {},
   "outputs": [
    {
     "name": "stdout",
     "output_type": "stream",
     "text": [
      "mehdimehdimehdi\n"
     ]
    }
   ],
   "source": [
    "print(firstname*3)"
   ]
  },
  {
   "cell_type": "code",
   "execution_count": 61,
   "id": "8001cdd3",
   "metadata": {},
   "outputs": [
    {
     "name": "stdout",
     "output_type": "stream",
     "text": [
      "mehdi 29\n"
     ]
    }
   ],
   "source": [
    "print(firstname + \" \" +str(age))"
   ]
  },
  {
   "cell_type": "code",
   "execution_count": 73,
   "id": "5d0f1169",
   "metadata": {},
   "outputs": [
    {
     "name": "stdout",
     "output_type": "stream",
     "text": [
      "zo\n"
     ]
    }
   ],
   "source": [
    "print(max(\"zo\",\"Zo\"))"
   ]
  },
  {
   "cell_type": "markdown",
   "id": "18ee0d35",
   "metadata": {},
   "source": [
    "# Built-in Function\n",
    "\n",
    "* Form now on we discuss the built in Function and how to use them"
   ]
  },
  {
   "cell_type": "code",
   "execution_count": 84,
   "id": "b59d78fc",
   "metadata": {},
   "outputs": [
    {
     "name": "stdout",
     "output_type": "stream",
     "text": [
      "\n"
     ]
    }
   ],
   "source": []
  }
 ],
 "metadata": {
  "kernelspec": {
   "display_name": "Python 3 (ipykernel)",
   "language": "python",
   "name": "python3"
  },
  "language_info": {
   "codemirror_mode": {
    "name": "ipython",
    "version": 3
   },
   "file_extension": ".py",
   "mimetype": "text/x-python",
   "name": "python",
   "nbconvert_exporter": "python",
   "pygments_lexer": "ipython3",
   "version": "3.9.13"
  }
 },
 "nbformat": 4,
 "nbformat_minor": 5
}
